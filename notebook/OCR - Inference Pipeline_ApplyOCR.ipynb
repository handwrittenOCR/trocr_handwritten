{
 "cells": [
  {
   "cell_type": "code",
   "execution_count": 2,
   "id": "e4cbed92",
   "metadata": {},
   "outputs": [],
   "source": [
    "from os.path import dirname, join\n",
    "from os import listdir, getcwd\n",
    "\n",
    "import sys\n",
    "\n",
    "PATH_REPO = \"C:\\\\Users\\\\marie\\\\Desktop\\\\trocr_handwritten\\\\\"\n",
    "PATH_MODELS = join(PATH_REPO, 'models')\n",
    "PATH_UTILS = join(PATH_REPO, 'trocr_handwritten','utils')\n",
    "sys.path.append(PATH_UTILS)\n",
    "\n",
    "PATH_DATA = join(PATH_REPO, 'data/test')\n",
    "PATH_PAGES = join(PATH_DATA, 'pages')\n",
    "PATH_XML = join(PATH_DATA, 'XML')\n",
    "PATH_OUTPUT = join(PATH_DATA, 'OCRized')\n",
    "PATH_LINES = join(PATH_DATA, 'lines')"
   ]
  },
  {
   "cell_type": "markdown",
   "id": "51c6e63b-ac5d-4c1b-8457-a383103ffa5f",
   "metadata": {},
   "source": [
    "# Objectives\n",
    "L'objectif de ce code est de partir des fichiers OCRisés, et de reconstituer le text à partir des colonnes. \n",
    "Input: pour une page dans page\n",
    "    - OCRized/colonne_X: text OCRisé pour la colonne X de la page 1\n",
    "    - XML : coordonnées des lignes et des colonnes. \n",
    "    - lines/colonne_X: images correspondant au text OCRisé\n",
    "    "
   ]
  },
  {
   "cell_type": "markdown",
   "id": "7a9830fd-0c1a-4cf5-992e-d74e8509bbcd",
   "metadata": {},
   "source": [
    "### Launch Parsing"
   ]
  },
  {
   "cell_type": "code",
   "execution_count": 3,
   "id": "b26954bc-573d-42b3-bf21-4c644def80d0",
   "metadata": {},
   "outputs": [],
   "source": [
    "import subprocess\n",
    "import importlib.util\n",
    "from trocr_handwritten.parse import parse_page"
   ]
  },
  {
   "cell_type": "markdown",
   "id": "9b17d9be",
   "metadata": {},
   "source": [
    "## Save consolidated results and by lines"
   ]
  },
  {
   "cell_type": "markdown",
   "id": "10ba83f5",
   "metadata": {},
   "source": [
    "### Consolidated"
   ]
  },
  {
   "cell_type": "code",
   "execution_count": null,
   "id": "73fbe487",
   "metadata": {},
   "outputs": [],
   "source": [
    "for my_page in pages:\n",
    "    _preds = pages[my_page]['preds']\n",
    "    id_columns = list(pages[my_page]['columns'].keys())\n",
    "    id_columns.sort()\n",
    "    for column_id in id_columns:\n",
    "        with open(join(PATH_PREDS, f'{my_page}_column_{column_id}.txt'), 'a') as f:\n",
    "            for text in _preds.get(column_id):\n",
    "                f.write(text)\n",
    "                f.write('\\n')\n",
    "            f.close()\n",
    "            \n",
    "import pickle as pkl\n",
    "\n",
    "pkl.dump(pages, open(join(PATH_PREDS, 'pages_predictions.pkl'), 'wb'))"
   ]
  },
  {
   "cell_type": "markdown",
   "id": "8e81f2b0",
   "metadata": {},
   "source": [
    "### By lines"
   ]
  },
  {
   "cell_type": "code",
   "execution_count": 99,
   "id": "84423a9b",
   "metadata": {},
   "outputs": [
    {
     "data": {
      "text/html": [
       "<div>\n",
       "<style scoped>\n",
       "    .dataframe tbody tr th:only-of-type {\n",
       "        vertical-align: middle;\n",
       "    }\n",
       "\n",
       "    .dataframe tbody tr th {\n",
       "        vertical-align: top;\n",
       "    }\n",
       "\n",
       "    .dataframe thead th {\n",
       "        text-align: right;\n",
       "    }\n",
       "</style>\n",
       "<table border=\"1\" class=\"dataframe\">\n",
       "  <thead>\n",
       "    <tr style=\"text-align: right;\">\n",
       "      <th></th>\n",
       "      <th>file_name</th>\n",
       "      <th>text</th>\n",
       "      <th>coords</th>\n",
       "    </tr>\n",
       "  </thead>\n",
       "  <tbody>\n",
       "    <tr>\n",
       "      <th>0</th>\n",
       "      <td>DAFCAOM04_DPPCEC_852024_0299_0.JPG</td>\n",
       "      <td>¤/n° 106 /¤</td>\n",
       "      <td>[267.0, 749.0, 730.4666666666667, 830.0]</td>\n",
       "    </tr>\n",
       "    <tr>\n",
       "      <th>1</th>\n",
       "      <td>DAFCAOM04_DPPCEC_852024_0299_1.JPG</td>\n",
       "      <td>¤/Décès/¤</td>\n",
       "      <td>[267.0, 863.6666666666666, 730.4666666666667, ...</td>\n",
       "    </tr>\n",
       "    <tr>\n",
       "      <th>2</th>\n",
       "      <td>DAFCAOM04_DPPCEC_852024_0299_2.JPG</td>\n",
       "      <td>¤/dée/\"/¬/¤</td>\n",
       "      <td>[267.0, 905.6666666666666, 730.4666666666667, ...</td>\n",
       "    </tr>\n",
       "    <tr>\n",
       "      <th>3</th>\n",
       "      <td>DAFCAOM04_DPPCEC_852024_0299_3.JPG</td>\n",
       "      <td>¤/sieur</td>\n",
       "      <td>[267.0, 943.0, 730.4666666666667, 1022.0]</td>\n",
       "    </tr>\n",
       "    <tr>\n",
       "      <th>4</th>\n",
       "      <td>DAFCAOM04_DPPCEC_852024_0299_4.JPG</td>\n",
       "      <td>Bouille</td>\n",
       "      <td>[267.0, 994.6666666666666, 730.4666666666667, ...</td>\n",
       "    </tr>\n",
       "    <tr>\n",
       "      <th>5</th>\n",
       "      <td>DAFCAOM04_DPPCEC_852024_0299_5.JPG</td>\n",
       "      <td>Hitalaire.</td>\n",
       "      <td>[267.0, 1038.0, 730.4666666666667, 1118.0]</td>\n",
       "    </tr>\n",
       "    <tr>\n",
       "      <th>6</th>\n",
       "      <td>DAFCAOM04_DPPCEC_852024_0299_6.JPG</td>\n",
       "      <td>¤/12107</td>\n",
       "      <td>[267.0, 2048.0, 730.4666666666667, 2132.0]</td>\n",
       "    </tr>\n",
       "    <tr>\n",
       "      <th>7</th>\n",
       "      <td>DAFCAOM04_DPPCEC_852024_0299_7.JPG</td>\n",
       "      <td>¤/DECES)</td>\n",
       "      <td>[267.0, 2158.3333333333335, 730.4666666666667,...</td>\n",
       "    </tr>\n",
       "    <tr>\n",
       "      <th>8</th>\n",
       "      <td>DAFCAOM04_DPPCEC_852024_0299_8.JPG</td>\n",
       "      <td>¤/Décès du demoiselle</td>\n",
       "      <td>[267.0, 2171.0, 730.4666666666667, 2264.0]</td>\n",
       "    </tr>\n",
       "    <tr>\n",
       "      <th>9</th>\n",
       "      <td>DAFCAOM04_DPPCEC_852024_0299_9.JPG</td>\n",
       "      <td>Chousset</td>\n",
       "      <td>[267.0, 2246.6666666666665, 730.4666666666667,...</td>\n",
       "    </tr>\n",
       "    <tr>\n",
       "      <th>10</th>\n",
       "      <td>DAFCAOM04_DPPCEC_852024_0299_10.JPG</td>\n",
       "      <td>Adélaïde Françoise</td>\n",
       "      <td>[267, 2293.6666666666665, 730.4666666666667, 2...</td>\n",
       "    </tr>\n",
       "  </tbody>\n",
       "</table>\n",
       "</div>"
      ],
      "text/plain": [
       "                              file_name                   text  \\\n",
       "0    DAFCAOM04_DPPCEC_852024_0299_0.JPG            ¤/n° 106 /¤   \n",
       "1    DAFCAOM04_DPPCEC_852024_0299_1.JPG              ¤/Décès/¤   \n",
       "2    DAFCAOM04_DPPCEC_852024_0299_2.JPG            ¤/dée/\"/¬/¤   \n",
       "3    DAFCAOM04_DPPCEC_852024_0299_3.JPG                ¤/sieur   \n",
       "4    DAFCAOM04_DPPCEC_852024_0299_4.JPG                Bouille   \n",
       "5    DAFCAOM04_DPPCEC_852024_0299_5.JPG             Hitalaire.   \n",
       "6    DAFCAOM04_DPPCEC_852024_0299_6.JPG                ¤/12107   \n",
       "7    DAFCAOM04_DPPCEC_852024_0299_7.JPG               ¤/DECES)   \n",
       "8    DAFCAOM04_DPPCEC_852024_0299_8.JPG  ¤/Décès du demoiselle   \n",
       "9    DAFCAOM04_DPPCEC_852024_0299_9.JPG               Chousset   \n",
       "10  DAFCAOM04_DPPCEC_852024_0299_10.JPG     Adélaïde Françoise   \n",
       "\n",
       "                                               coords  \n",
       "0            [267.0, 749.0, 730.4666666666667, 830.0]  \n",
       "1   [267.0, 863.6666666666666, 730.4666666666667, ...  \n",
       "2   [267.0, 905.6666666666666, 730.4666666666667, ...  \n",
       "3           [267.0, 943.0, 730.4666666666667, 1022.0]  \n",
       "4   [267.0, 994.6666666666666, 730.4666666666667, ...  \n",
       "5          [267.0, 1038.0, 730.4666666666667, 1118.0]  \n",
       "6          [267.0, 2048.0, 730.4666666666667, 2132.0]  \n",
       "7   [267.0, 2158.3333333333335, 730.4666666666667,...  \n",
       "8          [267.0, 2171.0, 730.4666666666667, 2264.0]  \n",
       "9   [267.0, 2246.6666666666665, 730.4666666666667,...  \n",
       "10  [267, 2293.6666666666665, 730.4666666666667, 2...  "
      ]
     },
     "execution_count": 99,
     "metadata": {},
     "output_type": "execute_result"
    }
   ],
   "source": [
    "import pandas as pd\n",
    "\n",
    "for my_page in pages:\n",
    "\n",
    "    try:\n",
    "        image = Image.open(join(PATH_PAGES,f'{my_page}.jpg')).convert(\"RGB\")\n",
    "    except:\n",
    "        image = Image.open(join(PATH_PAGES,f'{my_page}.JPG')).convert(\"RGB\")\n",
    "\n",
    "    image = image.convert(\"RGB\")\n",
    "    \n",
    "    image_lines = pages[my_page]['lines']\n",
    "    preds = pages[my_page]['lines_preds']\n",
    "    image_coords = pages[my_page]['lines_coords']\n",
    "\n",
    "    data_preds = pd.DataFrame([image_lines, preds, image_coords]).T\n",
    "    data_preds.columns = ['file_name', 'text', 'coords']\n",
    "\n",
    "    images = []\n",
    "    for coord in data_preds.coords.values:\n",
    "        images.append(image.crop(coord))\n",
    "\n",
    "    images[0].save(join(PATH_LINES, f\"{my_page}_lines.pdf\"), save_all=True, append_images=images[1:])\n",
    "    data_preds.to_csv(join(PATH_LINES, f\"{my_page}_lines_preds.txt\"), index=False, sep='\\t')"
   ]
  },
  {
   "cell_type": "code",
   "execution_count": null,
   "id": "5b8cfe64",
   "metadata": {},
   "outputs": [],
   "source": []
  }
 ],
 "metadata": {
  "kernelspec": {
   "display_name": "Python 3 (ipykernel)",
   "language": "python",
   "name": "python3"
  },
  "language_info": {
   "codemirror_mode": {
    "name": "ipython",
    "version": 3
   },
   "file_extension": ".py",
   "mimetype": "text/x-python",
   "name": "python",
   "nbconvert_exporter": "python",
   "pygments_lexer": "ipython3",
   "version": "3.11.8"
  }
 },
 "nbformat": 4,
 "nbformat_minor": 5
}
