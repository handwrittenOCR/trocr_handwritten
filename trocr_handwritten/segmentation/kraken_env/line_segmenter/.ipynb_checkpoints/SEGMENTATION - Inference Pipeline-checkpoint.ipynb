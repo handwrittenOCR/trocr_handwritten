{
 "cells": [
  {
   "cell_type": "markdown",
   "metadata": {},
   "source": [
    "# Line Segmentation Inference\n",
    "\n",
    "This notebook demonstrates how to use the line segmentation model to process handwritten documents."
   ]
  },
  {
   "cell_type": "code",
   "execution_count": null,
   "metadata": {},
   "source": [
    "from pathlib import Path\n",
    "from trocr_handwritten.segmentation.kraken_env.line_segmenter.image_processor import ImageProcessor\n",
    "from tqdm.notebook import tqdm"
   ]
  },
  {
   "cell_type": "markdown",
   "metadata": {},
   "source": [
    "## Setup\n",
    "\n",
    "First, let's configure the paths and initialize the processor."
   ]
  },
  {
   "cell_type": "code",
   "execution_count": null,
   "metadata": {},
   "source": [
    "# Configure paths\n",
    "root_dir = Path().resolve().parent\n",
    "model_path = root_dir / 'models' / 'blla.mlmodel'\n",
    "data_dir = root_dir / 'data' / 'processed' / 'images'\n",
    "\n",
    "# Initialize processor\n",
    "processor = ImageProcessor(str(model_path), verbose=True)"
   ]
  },
  {
   "cell_type": "markdown",
   "metadata": {},
   "source": [
    "## Process Images\n",
    "\n",
    "Now we can process all image folders in the data directory."
   ]
  },
  {
   "cell_type": "code",
   "execution_count": null,
   "metadata": {},
   "source": [
    "# Get all image folders\n",
    "image_folders = [f for f in data_dir.iterdir() if f.is_dir()]\n",
    "\n",
    "# Process each folder\n",
    "for folder in tqdm(image_folders, desc=\"Processing folders\"):\n",
    "    processor.process_directory(str(folder))"
   ]
  },
  {
   "cell_type": "markdown",
   "metadata": {},
   "source": [
    "## Check Results\n",
    "\n",
    "Let's look at some example results."
   ]
  },
  {
   "cell_type": "code",
   "execution_count": null,
   "metadata": {},
   "source": [
    "import json\n",
    "import matplotlib.pyplot as plt\n",
    "from PIL import Image\n",
    "\n",
    "def display_results(folder_path: Path):\n",
    "    # Display one example from Marge and one from Plein Texte\n",
    "    for subdir in ['Marge', 'Plein Texte']:\n",
    "        subdir_path = folder_path / subdir\n",
    "        if not subdir_path.exists():\n",
    "            continue\n",
    "            \n",
    "        # Get first processed image folder\n",
    "        image_dirs = [d for d in subdir_path.iterdir() if d.is_dir()]\n",
    "        if not image_dirs:\n",
    "            continue\n",
    "            \n",
    "        example_dir = image_dirs[0]\n",
    "        \n",
    "        # Load metadata\n",
    "        with open(example_dir / 'metadata.json') as f:\n",
    "            metadata = json.load(f)\n",
    "            \n",
    "        # Display original and first line\n",
    "        fig, (ax1, ax2) = plt.subplots(1, 2, figsize=(15, 5))\n",
    "        \n",
    "        # Original image\n",
    "        original = Image.open(metadata['original_image'])\n",
    "        ax1.imshow(original)\n",
    "        ax1.set_title(f'{subdir} - Original')\n",
    "        ax1.axis('off')\n",
    "        \n",
    "        # First line\n",
    "        if metadata['lines']:\n",
    "            line_path = example_dir / 'lines' / metadata['lines'][0]['image_path']\n",
    "            line_img = Image.open(line_path)\n",
    "            ax2.imshow(line_img)\n",
    "            ax2.set_title(f'{subdir} - First Line')\n",
    "            ax2.axis('off')\n",
    "        \n",
    "        plt.show()\n",
    "\n",
    "# Display results for first folder\n",
    "if image_folders:\n",
    "    display_results(image_folders[0])"
   ]
  }
 ],
 "metadata": {
  "kernelspec": {
   "display_name": "Python 3",
   "language": "python",
   "name": "python3"
  }
 },
 "nbformat": 4,
 "nbformat_minor": 4
}
