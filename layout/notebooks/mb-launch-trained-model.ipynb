{
 "cells": [
  {
   "cell_type": "markdown",
   "metadata": {},
   "source": [
    "### Objectives\n",
    "\n",
    "- Launch the trained YOLO model (models/yolov8n_handwritten_20241209.pt) on the images in the data folder. \n",
    "- Create 1 XML file for each image \n",
    "- Save the results in the results folder. \n",
    "\n",
    "INPUTS: \n",
    "- data/FOLDERS/\n",
    "- models/yolov8n_handwritten_20241209.pt\n",
    "\n",
    "OUTPUTS: \n",
    "- data/FOLDERS/json\n",
    "- data/FOLDERS/xml\n",
    "\n",
    "\n",
    "\n"
   ]
  },
  {
   "cell_type": "code",
   "execution_count": 7,
   "metadata": {},
   "outputs": [],
   "source": [
    "#activate the virtual environment\n",
    "\n",
    "!poetry shell\n"
   ]
  },
  {
   "cell_type": "code",
   "execution_count": 3,
   "metadata": {},
   "outputs": [
    {
     "data": {
      "text/plain": [
       "'C:\\\\Users\\\\marie\\\\Github\\\\trocr_handwritten\\\\trocr_handwritten/parse'"
      ]
     },
     "execution_count": 3,
     "metadata": {},
     "output_type": "execute_result"
    }
   ],
   "source": [
    "import os\n",
    "\n",
    "#os.chdir('D:/GitHub/trocr_handwritten')\n",
    "\n",
    "os.chdir('C:/Users/marie/Github/trocr_handwritten')\n",
    "\n",
    "PATH_REPO=os.getcwd()\n",
    "PATH_DATA = os.path.join(PATH_REPO,'data/20241106_yolo/train')\n",
    "PATH_MODEL = os.path.join(PATH_REPO,'models')\n",
    "#.py functions to parse page using model\n",
    "PATH_PARSE = os.path.join(PATH_REPO,'trocr_handwritten/parse')\n",
    "\n",
    "parse_function=os.path.join(PATH_PARSE,'layout_ft_yolo.py')\n",
    "model=os.path.join(PATH_MODEL,'yolov8n_handwritten_20241209.pt')\n",
    "PATH_PARSE"
   ]
  },
  {
   "cell_type": "code",
   "execution_count": 4,
   "metadata": {},
   "outputs": [],
   "source": [
    "import argparse\n",
    "from pathlib import Path\n",
    "import json\n",
    "from os.path import join\n",
    "from doclayout_yolo import YOLOv10"
   ]
  },
  {
   "cell_type": "code",
   "execution_count": 7,
   "metadata": {},
   "outputs": [
    {
     "data": {
      "text/plain": [
       "'C:\\\\Users\\\\marie\\\\Github\\\\trocr_handwritten'"
      ]
     },
     "execution_count": 7,
     "metadata": {},
     "output_type": "execute_result"
    }
   ],
   "source": [
    "os.getcwd()"
   ]
  },
  {
   "cell_type": "code",
   "execution_count": 11,
   "metadata": {},
   "outputs": [
    {
     "name": "stdout",
     "output_type": "stream",
     "text": [
      "Chargement du modèle models/20241119_v2_yolov10_50_finetuned.pt...\n",
      "Prédiction sur les images dans data/20241106_yolo/images/train...\n",
      "\n",
      "image 1/42 C:\\Users\\marie\\Github\\trocr_handwritten\\data\\20241106_yolo\\images\\train\\FRANOM22_COLH78_0261_0232.jpg: 1024x736 3 Marges, 1 Nom, 1 Plein Texte, 5 Signatures, 2030.5ms\n",
      "image 2/42 C:\\Users\\marie\\Github\\trocr_handwritten\\data\\20241106_yolo\\images\\train\\FRANOM22_COLH78_0261_0233.jpg: 1024x736 2 En-têtes, 8 Marges, 2 Plein Textes, 3 Signatures, 1771.6ms\n",
      "image 3/42 C:\\Users\\marie\\Github\\trocr_handwritten\\data\\20241106_yolo\\images\\train\\FRANOM22_COLH78_0261_0234.jpg: 1024x736 1 Titre, 1 En-tête, 4 Signatures, 1 Table, 1801.8ms\n",
      "image 4/42 C:\\Users\\marie\\Github\\trocr_handwritten\\data\\20241106_yolo\\images\\train\\FRANOM22_COLH78_0261_0235.jpg: 1024x736 3 Marges, 1 Nom, 1 Plein Texte, 9 Signatures, 1786.9ms\n",
      "image 5/42 C:\\Users\\marie\\Github\\trocr_handwritten\\data\\20241106_yolo\\images\\train\\FRANOM22_COLH78_0261_0236.jpg: 1024x736 2 En-têtes, 8 Marges, 2 Plein Textes, 3 Signatures, 1773.4ms\n",
      "image 6/42 C:\\Users\\marie\\Github\\trocr_handwritten\\data\\20241106_yolo\\images\\train\\FRANOM22_COLH78_0484_0220.jpg: 1024x832 2 Titres, 4 En-têtes, 2 Marges, 1 Nom, 3 Plein Textes, 2050.0ms\n",
      "image 7/42 C:\\Users\\marie\\Github\\trocr_handwritten\\data\\20241106_yolo\\images\\train\\FRANOM22_COLH78_0484_0221.jpg: 1024x832 2 En-têtes, 2 Tables, 1980.3ms\n",
      "image 8/42 C:\\Users\\marie\\Github\\trocr_handwritten\\data\\20241106_yolo\\images\\train\\FRANOM22_COLH78_0484_0222.jpg: 1024x832 2 Titres, 3 En-têtes, 2 Marges, 2 Noms, 2 Plein Textes, 1993.7ms\n",
      "image 9/42 C:\\Users\\marie\\Github\\trocr_handwritten\\data\\20241106_yolo\\images\\train\\FRANOM22_COLH78_0484_0223.jpg: 1024x832 2 Titres, 2 En-têtes, 3 Tables, 1940.0ms\n",
      "image 10/42 C:\\Users\\marie\\Github\\trocr_handwritten\\data\\20241106_yolo\\images\\train\\FRANOM22_COLH78_0484_0397.jpg: 1024x832 1 Titre, 2 En-têtes, 2 Marges, 1 Nom, 1 Plein Texte, 2 Signatures, 1975.4ms\n",
      "image 11/42 C:\\Users\\marie\\Github\\trocr_handwritten\\data\\20241106_yolo\\images\\train\\FRANOM22_COLH78_0484_0398.jpg: 1024x800 1 Titre, 2 En-têtes, 2 Tables, 1966.7ms\n",
      "image 12/42 C:\\Users\\marie\\Github\\trocr_handwritten\\data\\20241106_yolo\\images\\train\\FRANOM22_COLH78_0484_0399.jpg: 1024x800 1 Titre, 2 En-têtes, 2 Marges, 1 Nom, 1 Plein Texte, 4 Signatures, 1979.7ms\n",
      "image 13/42 C:\\Users\\marie\\Github\\trocr_handwritten\\data\\20241106_yolo\\images\\train\\FRANOM22_COLH78_0484_0400.jpg: 1024x800 1 Titre, 2 En-têtes, 2 Tables, 1924.9ms\n",
      "image 14/42 C:\\Users\\marie\\Github\\trocr_handwritten\\data\\20241106_yolo\\images\\train\\FRANOM22_COLH78_0485_0112.jpg: 1024x768 1 Titre, 2 En-têtes, 3 Marges, 1 Nom, 1 Plein Texte, 2 Signatures, 1851.1ms\n",
      "image 15/42 C:\\Users\\marie\\Github\\trocr_handwritten\\data\\20241106_yolo\\images\\train\\FRANOM22_COLH78_0485_0113.jpg: 1024x736 1 Titre, 2 En-têtes, 2 Tables, 1800.4ms\n",
      "image 16/42 C:\\Users\\marie\\Github\\trocr_handwritten\\data\\20241106_yolo\\images\\train\\FRANOM22_COLH78_0485_0114.jpg: 1024x736 1 Titre, 4 En-têtes, 3 Marges, 1 Nom, 3 Plein Textes, 2 Signatures, 1866.2ms\n",
      "image 17/42 C:\\Users\\marie\\Github\\trocr_handwritten\\data\\20241106_yolo\\images\\train\\FRANOM22_COLH78_0485_0115.jpg: 1024x736 1 Titre, 2 En-têtes, 3 Tables, 1741.7ms\n",
      "image 18/42 C:\\Users\\marie\\Github\\trocr_handwritten\\data\\20241106_yolo\\images\\train\\FRANOM22_COLH78_0486_0027.jpg: 1024x736 1 Titre, 3 En-têtes, 4 Marges, 1 Nom, 2 Plein Textes, 1863.5ms\n",
      "image 19/42 C:\\Users\\marie\\Github\\trocr_handwritten\\data\\20241106_yolo\\images\\train\\FRANOM22_COLH78_0486_0028.jpg: 1024x704 1 Titre, 2 En-têtes, 3 Tables, 1800.9ms\n",
      "image 20/42 C:\\Users\\marie\\Github\\trocr_handwritten\\data\\20241106_yolo\\images\\train\\FRANOM22_COLH78_0486_0043.jpg: 1024x736 1 Titre, 4 En-têtes, 4 Marges, 1 Nom, 1 Plein Texte, 1922.6ms\n",
      "image 21/42 C:\\Users\\marie\\Github\\trocr_handwritten\\data\\20241106_yolo\\images\\train\\FRANOM22_COLH78_0486_0044.jpg: 1024x736 1 Titre, 2 En-têtes, 2 Tables, 1566.0ms\n",
      "image 22/42 C:\\Users\\marie\\Github\\trocr_handwritten\\data\\20241106_yolo\\images\\train\\FRANOM22_COLH78_0487_0124.jpg: 1024x736 1 Titre, 4 En-têtes, 3 Marges, 1 Nom, 3 Plein Textes, 1 Signature, 1673.4ms\n",
      "image 23/42 C:\\Users\\marie\\Github\\trocr_handwritten\\data\\20241106_yolo\\images\\train\\FRANOM22_COLH78_0487_0125.jpg: 1024x704 1 Titre, 1 En-tête, 1 Table, 1629.1ms\n",
      "image 24/42 C:\\Users\\marie\\Github\\trocr_handwritten\\data\\20241106_yolo\\images\\train\\FRANOM22_COLH78_0487_0294.jpg: 1024x736 1 Titre, 2 En-têtes, 1 Signature, 1 Table, 1757.0ms\n",
      "image 25/42 C:\\Users\\marie\\Github\\trocr_handwritten\\data\\20241106_yolo\\images\\train\\FRANOM22_COLH78_0487_0400.jpg: 1024x768 3 Titres, 1 En-tête, 3 Marges, 1 Nom, 2 Plein Textes, 7 Signatures, 1858.4ms\n",
      "image 26/42 C:\\Users\\marie\\Github\\trocr_handwritten\\data\\20241106_yolo\\images\\train\\FRANOM22_COLH78_0487_0401.jpg: 1024x768 2 En-têtes, 3 Signatures, 1999.1ms\n",
      "image 27/42 C:\\Users\\marie\\Github\\trocr_handwritten\\data\\20241106_yolo\\images\\train\\FRANOM22_COLH78_0487_0511.jpg: 1024x800 2 Titres, 1 En-tête, 4 Marges, 1 Nom, 1 Plein Texte, 7 Signatures, 1890.2ms\n",
      "image 28/42 C:\\Users\\marie\\Github\\trocr_handwritten\\data\\20241106_yolo\\images\\train\\FRANOM22_COLH78_0487_0512.jpg: 1024x768 2 En-têtes, 2 Signatures, 1863.3ms\n",
      "image 29/42 C:\\Users\\marie\\Github\\trocr_handwritten\\data\\20241106_yolo\\images\\train\\FRANOM58_078MIOM0841_0008.jpg: 1024x640 1 Titre, 1 En-tête, 2 Marges, 1 Nom, 1 Plein Texte, 1 Signature, 1482.3ms\n",
      "image 30/42 C:\\Users\\marie\\Github\\trocr_handwritten\\data\\20241106_yolo\\images\\train\\FRANOM58_078MIOM0841_0009.jpg: 1024x704 3 En-têtes, 9 Marges, 1 Plein Texte, 5 Signatures, 1629.5ms\n",
      "image 31/42 C:\\Users\\marie\\Github\\trocr_handwritten\\data\\20241106_yolo\\images\\train\\FRANOM58_078MIOM0870_0035.jpg: 1024x672 2 En-têtes, 4 Marges, 1 Nom, 1 Plein Texte, 1685.8ms\n",
      "image 32/42 C:\\Users\\marie\\Github\\trocr_handwritten\\data\\20241106_yolo\\images\\train\\FRANOM58_078MIOM0870_0036.jpg: 1024x672 2 Titres, 1 En-tête, 1 Table, 1587.7ms\n",
      "image 33/42 C:\\Users\\marie\\Github\\trocr_handwritten\\data\\20241106_yolo\\images\\train\\FRANOM58_078MIOM0870_0063.jpg: 1024x672 5 En-têtes, 3 Marges, 1 Nom, 2 Plein Textes, 1663.2ms\n",
      "image 34/42 C:\\Users\\marie\\Github\\trocr_handwritten\\data\\20241106_yolo\\images\\train\\FRANOM58_078MIOM0870_0259.jpg: 1024x672 3 En-têtes, 3 Marges, 1 Nom, 2 Plein Textes, 1443.3ms\n",
      "image 35/42 C:\\Users\\marie\\Github\\trocr_handwritten\\data\\20241106_yolo\\images\\train\\FRANOM58_078MIOM0870_0260.jpg: 1024x672 1 Titre, 2 En-têtes, 1 Table, 1630.7ms\n",
      "image 36/42 C:\\Users\\marie\\Github\\trocr_handwritten\\data\\20241106_yolo\\images\\train\\FRANOM58_078MIOM0870_0295.jpg: 1024x800 4 Marges, 2 Noms, 4 Plein Textes, 3 Signatures, 1940.7ms\n",
      "image 37/42 C:\\Users\\marie\\Github\\trocr_handwritten\\data\\20241106_yolo\\images\\train\\FRANOM58_078MIOM0870_0296.jpg: 1024x800 2 En-têtes, 3 Marges, 1 Plein Texte, 3 Signatures, 1987.6ms\n",
      "image 38/42 C:\\Users\\marie\\Github\\trocr_handwritten\\data\\20241106_yolo\\images\\train\\FRANOM58_078MIOM0871_0164.jpg: 1024x672 1 Titre, 4 En-têtes, 3 Marges, 1 Nom, 3 Plein Textes, 1676.0ms\n",
      "image 39/42 C:\\Users\\marie\\Github\\trocr_handwritten\\data\\20241106_yolo\\images\\train\\FRANOM58_078MIOM0871_0165.jpg: 1024x672 1 Titre, 2 En-têtes, 1 Table, 1651.0ms\n",
      "image 40/42 C:\\Users\\marie\\Github\\trocr_handwritten\\data\\20241106_yolo\\images\\train\\FRANOM58_078MIOM0871_0330.jpg: 1024x704 1 Titre, 3 En-têtes, 3 Marges, 1 Nom, 2 Plein Textes, 1666.2ms\n",
      "image 41/42 C:\\Users\\marie\\Github\\trocr_handwritten\\data\\20241106_yolo\\images\\train\\FRANOM58_078MIOM0871_0331.jpg: 1024x704 2 Titres, 2 En-têtes, 1 Table, 1712.1ms\n",
      "image 42/42 C:\\Users\\marie\\Github\\trocr_handwritten\\data\\20241106_yolo\\images\\train\\FRANOM58_078MIOM1282_0414.jpg: 1024x672 4 Titres, 1 En-tête, 2 Marges, 2 Noms, 1 Plein Texte, 9 Signatures, 1619.9ms\n",
      "Speed: 11.0ms preprocess, 1796.0ms inference, 2.1ms postprocess per image at shape (1, 3, 1024, 672)\n",
      "Création du fichier JSON...\n",
      "Fichier JSON sauvegardé : data/20241106_yolo/images/train\\yolo_predictions.json\n"
     ]
    }
   ],
   "source": [
    "!python trocr_handwritten/parse/layout_ft_yolo.py --path_folder data/20241106_yolo/images/train --path_model models/20241119_v2_yolov10_50_finetuned.pt --conf 0.2 --iou 0.5"
   ]
  },
  {
   "cell_type": "markdown",
   "metadata": {},
   "source": [
    "Break .json file into XML, one per image\n",
    "\n",
    "1. Load JSON Data: The code reads the JSON file containing YOLO predictions.\n",
    "Create Output Directory: It creates a directory for the XML files if it doesn't already exist.\n",
    "3. Create XML Function: A function create_xml is defined to convert the JSON data for each image into XML format.\n",
    "4. Iterate and Save: The code iterates through each image's metadata, generates the XML content, and saves it to a file named after the image (without the .jpg extension).\n",
    "Note:"
   ]
  },
  {
   "cell_type": "markdown",
   "metadata": {},
   "source": []
  },
  {
   "cell_type": "code",
   "execution_count": null,
   "metadata": {},
   "outputs": [],
   "source": [
    "!pip install lxml"
   ]
  },
  {
   "cell_type": "code",
   "execution_count": 15,
   "metadata": {},
   "outputs": [
    {
     "name": "stdout",
     "output_type": "stream",
     "text": [
      "XML files created successfully.\n"
     ]
    }
   ],
   "source": [
    "# Add this code block to your Jupyter notebook\n",
    "\n",
    "import json\n",
    "import os\n",
    "from lxml import etree\n",
    "\n",
    "# Load the JSON data\n",
    "with open('data/20241106_yolo/images/train/yolo_predictions.json') as json_file:\n",
    "    data = json.load(json_file)\n",
    "\n",
    "# Create the output directory for XML files\n",
    "output_dir = 'data/20241106_yolo/images/train/XML'\n",
    "os.makedirs(output_dir, exist_ok=True)\n",
    "\n",
    "# Create a mapping of class numbers to names\n",
    "class_mapping = {str(key): value for key, value in data['_via_attributes']['region']['Classes']['options'].items()}\n",
    "\n",
    "# Function to create XML from JSON data\n",
    "def create_xml(image_id, regions):\n",
    "    root = etree.Element(\"annotation\")\n",
    "    etree.SubElement(root, \"filename\").text = image_id\n",
    "\n",
    "    for region in regions:\n",
    "        obj = etree.SubElement(root, \"object\")\n",
    "        # Use the class name instead of the number\n",
    "        class_name = class_mapping.get(region['region_attributes']['Classes'], 'Unknown')\n",
    "        etree.SubElement(obj, \"name\").text = class_name\n",
    "        bndbox = etree.SubElement(obj, \"bndbox\")\n",
    "        etree.SubElement(bndbox, \"xmin\").text = str(region['shape_attributes']['x'])\n",
    "        etree.SubElement(bndbox, \"ymin\").text = str(region['shape_attributes']['y'])\n",
    "        etree.SubElement(bndbox, \"xmax\").text = str(region['shape_attributes']['x'] + region['shape_attributes']['width'])\n",
    "        etree.SubElement(bndbox, \"ymax\").text = str(region['shape_attributes']['y'] + region['shape_attributes']['height'])\n",
    "\n",
    "    return etree.tostring(root, pretty_print=True, encoding='unicode')\n",
    "\n",
    "# Iterate through the image metadata and create XML files\n",
    "for image_id, image_data in data['_via_img_metadata'].items():\n",
    "    regions = image_data['regions']\n",
    "    xml_content = create_xml(image_id.split('.')[0], regions)  # Use image name without extension\n",
    "    xml_file_path = os.path.join(output_dir, f\"{image_id.split('.')[0]}.xml\")\n",
    "    \n",
    "    with open(xml_file_path, 'w') as xml_file:\n",
    "        xml_file.write(xml_content)\n",
    "\n",
    "print(\"XML files created successfully.\")"
   ]
  },
  {
   "cell_type": "markdown",
   "metadata": {},
   "source": []
  },
  {
   "cell_type": "markdown",
   "metadata": {},
   "source": []
  }
 ],
 "metadata": {
  "kernelspec": {
   "display_name": "doclayout_yolo",
   "language": "python",
   "name": "python3"
  },
  "language_info": {
   "codemirror_mode": {
    "name": "ipython",
    "version": 3
   },
   "file_extension": ".py",
   "mimetype": "text/x-python",
   "name": "python",
   "nbconvert_exporter": "python",
   "pygments_lexer": "ipython3",
   "version": "3.11.8"
  }
 },
 "nbformat": 4,
 "nbformat_minor": 2
}
