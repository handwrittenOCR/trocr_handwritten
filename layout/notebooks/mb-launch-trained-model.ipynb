{
 "cells": [
  {
   "cell_type": "markdown",
   "metadata": {},
   "source": [
    "### Objectives\n",
    "\n",
    "- Launch the trained YOLO model (models/yolov8n_handwritten_20241209.pt) on the images in the data folder. \n",
    "- Create 1 XML file for each image \n",
    "- Save the results in the results folder. \n",
    "\n",
    "INPUTS: \n",
    "- data/FOLDERS/\n",
    "- models/yolov8n_handwritten_20241209.pt\n",
    "\n",
    "OUTPUTS: \n",
    "- data/FOLDERS/json\n",
    "- data/FOLDERS/xml\n",
    "\n",
    "\n",
    "\n"
   ]
  },
  {
   "cell_type": "code",
   "execution_count": 7,
   "metadata": {},
   "outputs": [],
   "source": [
    "#activate the virtual environment\n",
    "\n",
    "!.\\venv\\Scripts\\activate\n"
   ]
  },
  {
   "cell_type": "code",
   "execution_count": 2,
   "metadata": {},
   "outputs": [
    {
     "data": {
      "text/plain": [
       "'D:\\\\GitHub\\\\trocr_handwritten\\\\trocr_handwritten/parse'"
      ]
     },
     "execution_count": 2,
     "metadata": {},
     "output_type": "execute_result"
    }
   ],
   "source": [
    "import os\n",
    "\n",
    "os.chdir('D:/GitHub/trocr_handwritten')\n",
    "PATH_REPO=os.getcwd()\n",
    "PATH_DATA = os.path.join(PATH_REPO,'data/20241106_yolo/train')\n",
    "PATH_MODEL = os.path.join(PATH_REPO,'models')\n",
    "#.py functions to parse page using model\n",
    "PATH_PARSE = os.path.join(PATH_REPO,'trocr_handwritten/parse')\n",
    "\n",
    "parse_function=os.path.join(PATH_PARSE,'layout_ft_yolo.py')\n",
    "model=os.path.join(PATH_MODEL,'yolov8n_handwritten_20241209.pt')\n",
    "PATH_PARSE"
   ]
  },
  {
   "cell_type": "code",
   "execution_count": 9,
   "metadata": {},
   "outputs": [
    {
     "ename": "ModuleNotFoundError",
     "evalue": "No module named 'huggingface_hub'",
     "output_type": "error",
     "traceback": [
      "\u001b[1;31m---------------------------------------------------------------------------\u001b[0m",
      "\u001b[1;31mModuleNotFoundError\u001b[0m                       Traceback (most recent call last)",
      "Cell \u001b[1;32mIn[9], line 5\u001b[0m\n\u001b[0;32m      3\u001b[0m \u001b[38;5;28;01mimport\u001b[39;00m \u001b[38;5;21;01mjson\u001b[39;00m\n\u001b[0;32m      4\u001b[0m \u001b[38;5;28;01mfrom\u001b[39;00m \u001b[38;5;21;01mos\u001b[39;00m\u001b[38;5;21;01m.\u001b[39;00m\u001b[38;5;21;01mpath\u001b[39;00m \u001b[38;5;28;01mimport\u001b[39;00m join\n\u001b[1;32m----> 5\u001b[0m \u001b[38;5;28;01mfrom\u001b[39;00m \u001b[38;5;21;01mdoclayout_yolo\u001b[39;00m \u001b[38;5;28;01mimport\u001b[39;00m YOLOv10\n",
      "File \u001b[1;32mD:\\GitHub\\trocr_handwritten\\layout\\DocLayout-YOLO\\doclayout_yolo\\__init__.py:6\u001b[0m\n\u001b[0;32m      3\u001b[0m __version__ \u001b[38;5;241m=\u001b[39m \u001b[38;5;124m\"\u001b[39m\u001b[38;5;124m0.0.2\u001b[39m\u001b[38;5;124m\"\u001b[39m\n\u001b[0;32m      5\u001b[0m \u001b[38;5;28;01mfrom\u001b[39;00m \u001b[38;5;21;01mdoclayout_yolo\u001b[39;00m\u001b[38;5;21;01m.\u001b[39;00m\u001b[38;5;21;01mdata\u001b[39;00m\u001b[38;5;21;01m.\u001b[39;00m\u001b[38;5;21;01mexplorer\u001b[39;00m\u001b[38;5;21;01m.\u001b[39;00m\u001b[38;5;21;01mexplorer\u001b[39;00m \u001b[38;5;28;01mimport\u001b[39;00m Explorer\n\u001b[1;32m----> 6\u001b[0m \u001b[38;5;28;01mfrom\u001b[39;00m \u001b[38;5;21;01mdoclayout_yolo\u001b[39;00m\u001b[38;5;21;01m.\u001b[39;00m\u001b[38;5;21;01mmodels\u001b[39;00m \u001b[38;5;28;01mimport\u001b[39;00m RTDETR, SAM, YOLO, YOLOWorld, YOLOv10\n\u001b[0;32m      7\u001b[0m \u001b[38;5;28;01mfrom\u001b[39;00m \u001b[38;5;21;01mdoclayout_yolo\u001b[39;00m\u001b[38;5;21;01m.\u001b[39;00m\u001b[38;5;21;01mmodels\u001b[39;00m\u001b[38;5;21;01m.\u001b[39;00m\u001b[38;5;21;01mfastsam\u001b[39;00m \u001b[38;5;28;01mimport\u001b[39;00m FastSAM\n\u001b[0;32m      8\u001b[0m \u001b[38;5;28;01mfrom\u001b[39;00m \u001b[38;5;21;01mdoclayout_yolo\u001b[39;00m\u001b[38;5;21;01m.\u001b[39;00m\u001b[38;5;21;01mmodels\u001b[39;00m\u001b[38;5;21;01m.\u001b[39;00m\u001b[38;5;21;01mnas\u001b[39;00m \u001b[38;5;28;01mimport\u001b[39;00m NAS\n",
      "File \u001b[1;32mD:\\GitHub\\trocr_handwritten\\layout\\DocLayout-YOLO\\doclayout_yolo\\models\\__init__.py:6\u001b[0m\n\u001b[0;32m      4\u001b[0m \u001b[38;5;28;01mfrom\u001b[39;00m \u001b[38;5;21;01m.\u001b[39;00m\u001b[38;5;21;01msam\u001b[39;00m \u001b[38;5;28;01mimport\u001b[39;00m SAM\n\u001b[0;32m      5\u001b[0m \u001b[38;5;28;01mfrom\u001b[39;00m \u001b[38;5;21;01m.\u001b[39;00m\u001b[38;5;21;01myolo\u001b[39;00m \u001b[38;5;28;01mimport\u001b[39;00m YOLO, YOLOWorld\n\u001b[1;32m----> 6\u001b[0m \u001b[38;5;28;01mfrom\u001b[39;00m \u001b[38;5;21;01m.\u001b[39;00m\u001b[38;5;21;01myolov10\u001b[39;00m \u001b[38;5;28;01mimport\u001b[39;00m YOLOv10\n\u001b[0;32m      8\u001b[0m __all__ \u001b[38;5;241m=\u001b[39m \u001b[38;5;124m\"\u001b[39m\u001b[38;5;124mYOLO\u001b[39m\u001b[38;5;124m\"\u001b[39m, \u001b[38;5;124m\"\u001b[39m\u001b[38;5;124mRTDETR\u001b[39m\u001b[38;5;124m\"\u001b[39m, \u001b[38;5;124m\"\u001b[39m\u001b[38;5;124mSAM\u001b[39m\u001b[38;5;124m\"\u001b[39m, \u001b[38;5;124m\"\u001b[39m\u001b[38;5;124mYOLOWorld\u001b[39m\u001b[38;5;124m\"\u001b[39m, \u001b[38;5;124m\"\u001b[39m\u001b[38;5;124mYOLOv10\u001b[39m\u001b[38;5;124m\"\u001b[39m  \u001b[38;5;66;03m# allow simpler import\u001b[39;00m\n",
      "File \u001b[1;32mD:\\GitHub\\trocr_handwritten\\layout\\DocLayout-YOLO\\doclayout_yolo\\models\\yolov10\\__init__.py:1\u001b[0m\n\u001b[1;32m----> 1\u001b[0m \u001b[38;5;28;01mfrom\u001b[39;00m \u001b[38;5;21;01m.\u001b[39;00m\u001b[38;5;21;01mmodel\u001b[39;00m \u001b[38;5;28;01mimport\u001b[39;00m YOLOv10\n\u001b[0;32m      2\u001b[0m \u001b[38;5;28;01mfrom\u001b[39;00m \u001b[38;5;21;01m.\u001b[39;00m\u001b[38;5;21;01mpredict\u001b[39;00m \u001b[38;5;28;01mimport\u001b[39;00m YOLOv10DetectionPredictor\n\u001b[0;32m      3\u001b[0m \u001b[38;5;28;01mfrom\u001b[39;00m \u001b[38;5;21;01m.\u001b[39;00m\u001b[38;5;21;01mval\u001b[39;00m \u001b[38;5;28;01mimport\u001b[39;00m YOLOv10DetectionValidator\n",
      "File \u001b[1;32mD:\\GitHub\\trocr_handwritten\\layout\\DocLayout-YOLO\\doclayout_yolo\\models\\yolov10\\model.py:7\u001b[0m\n\u001b[0;32m      4\u001b[0m \u001b[38;5;28;01mfrom\u001b[39;00m \u001b[38;5;21;01m.\u001b[39;00m\u001b[38;5;21;01mpredict\u001b[39;00m \u001b[38;5;28;01mimport\u001b[39;00m YOLOv10DetectionPredictor\n\u001b[0;32m      5\u001b[0m \u001b[38;5;28;01mfrom\u001b[39;00m \u001b[38;5;21;01m.\u001b[39;00m\u001b[38;5;21;01mtrain\u001b[39;00m \u001b[38;5;28;01mimport\u001b[39;00m YOLOv10DetectionTrainer\n\u001b[1;32m----> 7\u001b[0m \u001b[38;5;28;01mfrom\u001b[39;00m \u001b[38;5;21;01mhuggingface_hub\u001b[39;00m \u001b[38;5;28;01mimport\u001b[39;00m PyTorchModelHubMixin\n\u001b[0;32m      9\u001b[0m \u001b[38;5;28;01mclass\u001b[39;00m \u001b[38;5;21;01mYOLOv10\u001b[39;00m(Model, PyTorchModelHubMixin, repo_url\u001b[38;5;241m=\u001b[39m\u001b[38;5;124m\"\u001b[39m\u001b[38;5;124mhttps://github.com/opendatalab/DocLayout-YOLO\u001b[39m\u001b[38;5;124m\"\u001b[39m, pipeline_tag\u001b[38;5;241m=\u001b[39m\u001b[38;5;124m\"\u001b[39m\u001b[38;5;124mobject-detection\u001b[39m\u001b[38;5;124m\"\u001b[39m, license\u001b[38;5;241m=\u001b[39m\u001b[38;5;124m\"\u001b[39m\u001b[38;5;124magpl-3.0\u001b[39m\u001b[38;5;124m\"\u001b[39m):\n\u001b[0;32m     11\u001b[0m     \u001b[38;5;28;01mdef\u001b[39;00m \u001b[38;5;21m__init__\u001b[39m(\u001b[38;5;28mself\u001b[39m, model\u001b[38;5;241m=\u001b[39m\u001b[38;5;124m\"\u001b[39m\u001b[38;5;124myolov10n.pt\u001b[39m\u001b[38;5;124m\"\u001b[39m, task\u001b[38;5;241m=\u001b[39m\u001b[38;5;28;01mNone\u001b[39;00m, verbose\u001b[38;5;241m=\u001b[39m\u001b[38;5;28;01mFalse\u001b[39;00m):\n",
      "\u001b[1;31mModuleNotFoundError\u001b[0m: No module named 'huggingface_hub'"
     ]
    }
   ],
   "source": [
    "import argparse\n",
    "from pathlib import Path\n",
    "import json\n",
    "from os.path import join\n",
    "from doclayout_yolo import YOLOv10"
   ]
  },
  {
   "cell_type": "code",
   "execution_count": 3,
   "metadata": {},
   "outputs": [
    {
     "name": "stderr",
     "output_type": "stream",
     "text": [
      "Traceback (most recent call last):\n",
      "  File \"D:\\GitHub\\trocr_handwritten\\trocr_handwritten\\parse\\layout_ft_yolo.py\", line 7, in <module>\n",
      "    from doclayout_yolo import YOLOv10\n",
      "  File \"D:\\GitHub\\trocr_handwritten\\layout\\DocLayout-YOLO\\doclayout_yolo\\__init__.py\", line 5, in <module>\n",
      "    from doclayout_yolo.data.explorer.explorer import Explorer\n",
      "  File \"D:\\GitHub\\trocr_handwritten\\layout\\DocLayout-YOLO\\doclayout_yolo\\data\\explorer\\explorer.py\", line 18, in <module>\n",
      "    from doclayout_yolo.models.yolo.model import YOLO\n",
      "  File \"D:\\GitHub\\trocr_handwritten\\layout\\DocLayout-YOLO\\doclayout_yolo\\models\\__init__.py\", line 6, in <module>\n",
      "    from .yolov10 import YOLOv10\n",
      "  File \"D:\\GitHub\\trocr_handwritten\\layout\\DocLayout-YOLO\\doclayout_yolo\\models\\yolov10\\__init__.py\", line 1, in <module>\n",
      "    from .model import YOLOv10\n",
      "  File \"D:\\GitHub\\trocr_handwritten\\layout\\DocLayout-YOLO\\doclayout_yolo\\models\\yolov10\\model.py\", line 7, in <module>\n",
      "    from huggingface_hub import PyTorchModelHubMixin\n",
      "ModuleNotFoundError: No module named 'huggingface_hub'\n"
     ]
    }
   ],
   "source": [
    "\n",
    "python trocr_handwritten/parse/layout_ft_yolo.py --path_folder data/20241106_yolo/train --path_model models/yolov8n_handwritten_20241209.pt --conf 0.2 --iou 0.5"
   ]
  },
  {
   "cell_type": "markdown",
   "metadata": {},
   "source": []
  }
 ],
 "metadata": {
  "kernelspec": {
   "display_name": "doclayout_yolo",
   "language": "python",
   "name": "python3"
  },
  "language_info": {
   "codemirror_mode": {
    "name": "ipython",
    "version": 3
   },
   "file_extension": ".py",
   "mimetype": "text/x-python",
   "name": "python",
   "nbconvert_exporter": "python",
   "pygments_lexer": "ipython3",
   "version": "3.10.15"
  }
 },
 "nbformat": 4,
 "nbformat_minor": 2
}
